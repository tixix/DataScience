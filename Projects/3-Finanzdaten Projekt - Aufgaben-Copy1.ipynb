{
 "cells": [
  {
   "cell_type": "markdown",
   "metadata": {},
   "source": [
    "<a href=\"https://datamics.com/de/courses/\"><img src=../DATA/bg_datamics_top.png></a>\n",
    "\n",
    "<em text-align:center>© Datamics</em>\n",
    "# Finanzdaten Projekt\n",
    "\n",
    "In diesem Datenprojekt werden wir uns auf die Analyse von Aktienpreise konzentrieren. Denkt dabei daran, dass es hier primär um die Visualisierungs- und Analysefähigkeiten geht, nicht daraum verlässliche Finanzanalysen durchzuführen.\n",
    "\n",
    "**Achtung**: Dieses Projekt wird eine große Herausforderung weil es eine Menge neuer Konzepte einführt, die ihr selbst recherchieren müsst. Nichtsdestotrotz werden wir die notwendigen Hinweise geben. Dabei sei es jedem freigestellt parallel ins Lösungsnotebook oder das Video-Material zu schauen und dieses Projekt als \"Walkthrough\" zu lösen.\n",
    "\n",
    "Wir werden uns nun also Bankaktien anschauen und wie sie sich seit der Finanzkrise bis Anfang 2016 entwickelt haben.\n",
    "\n",
    "## Die Daten\n",
    "\n",
    "In dieser Sektion werden wir lernen, wie wir mit Pandas direkt Daten aus Google Fiance lesen können.\n",
    "\n",
    "Zuerst müssen wir demnach einige Imports machen, welche im Rahmen dieses Projektes gegeben sind.\n",
    "\n",
    "*Hinweis: Zum korrekten Auslesen der Finanzdaten müssen wir noch den [pandas-datareader](https://github.com/pydata/pandas-datareader) installieren:*\n",
    "\n",
    "    conda install pandas-datareader\n",
    "\n",
    "### Die Importe\n",
    "\n",
    "*Bereits ausgefüllt:*"
   ]
  },
  {
   "cell_type": "code",
   "execution_count": 1,
   "metadata": {},
   "outputs": [],
   "source": [
    "from pandas_datareader import data, wb\n",
    "import pandas as pd\n",
    "import numpy as np\n",
    "from datetime import datetime\n",
    "from dateutil.relativedelta import relativedelta\n",
    "%matplotlib inline"
   ]
  },
  {
   "cell_type": "markdown",
   "metadata": {},
   "source": [
    "### Daten\n",
    "\n",
    "Wir können die Daten durch verwendung des *Pandas Datareader* erhalten. Dieser liefert uns Aktieninformationen zu den folgenden Banken:\n",
    "\n",
    "* Bank of America\n",
    "* CitiGroup\n",
    "* Goldman Sachs\n",
    "* JPMorgan Chase\n",
    "* Morgan Stanley\n",
    "* Wells Fargo\n",
    "\n",
    "**Finde nun heraus, wie du die Aktiendaten vom 5 Jahren zurück bis heute für jede dieser Banken erhälst. Erstelle dazu für jede Bank einen eigenen DataFrame. Die Namen dieser DataFrames sollen dem Ticker Symbol (z.B.: BAC für Bank of America) entsprechen. Das alles benötigt einige Schritte:**\n",
    "\n",
    "1. Nutze `datetime`, um Start und Ende Objekte zu erstellen. \n",
    " **Achtung die Parameter für start und end haben leider in der   aktuellen pandas-datareader Version einen Bug**\n",
    "2. Finde das Ticker Symbol für jede Bank heraus.\n",
    "3. Finde heraus, wie du den datareader nutzen kannst, um die Informationen zu erhalten.\n",
    "\n",
    "**Nutze diese [Dokumentationsseite](http://pandas.pydata.org/pandas-docs/stable/ecosystem.html) für Hinweise und Tipps. Es sollte dabei nur um das richtige Ersetzen bestimmter Daten gehen. Nutze \"Stooq.com\" als Quelle. Zum Beispiel:**\n",
    "\n",
    "    # Bank of America\n",
    "    # Achtung die Parameter für start und end haben leider in der aktuellen pandas-datareader Version einen Bug. \n",
    "    # und werden nicht angewendet\n",
    "    BAC = data.DataReader(\"BAC\",\"stooq\",start,end)"
   ]
  },
  {
   "cell_type": "code",
   "execution_count": 2,
   "metadata": {},
   "outputs": [
    {
     "data": {
      "text/plain": [
       "<matplotlib.axes._subplots.AxesSubplot at 0x2231d629848>"
      ]
     },
     "execution_count": 2,
     "metadata": {},
     "output_type": "execute_result"
    },
    {
     "data": {
      "image/png": "[encoded data removed]",
      "text/plain": [
       "<Figure size 432x288 with 1 Axes>"
      ]
     },
     "metadata": {
      "needs_background": "light"
     },
     "output_type": "display_data"
    }
   ],
   "source": [
    "BAC = data.DataReader(\"BAC\",\"stooq\")\n",
    "BAC.plot()"
   ]
  },
  {
   "cell_type": "code",
   "execution_count": 3,
   "metadata": {},
   "outputs": [
    {
     "name": "stdout",
     "output_type": "stream",
     "text": [
      "Start date: 2014-12-28 23:56:17.723334, end date 2019-12-28 23:56:17.723334\n"
     ]
    }
   ],
   "source": [
    "start = datetime.today() - relativedelta(years=5)\n",
    "end = datetime.today()\n",
    "print(f'Start date: {start}, end date {end}')"
   ]
  },
  {
   "cell_type": "code",
   "execution_count": 5,
   "metadata": {},
   "outputs": [],
   "source": [
    "# Bank of America - BAC\n",
    "BAC = data.DataReader('BAC', start=start, end=end, data_source='yahoo')\n",
    "# CitiGroup\n",
    "C     = data.DataReader('C', start=start, end=end, data_source='yahoo')\n",
    "# Goldman Sachs \n",
    "GS = data.DataReader('GS', start=start, end=end, data_source='yahoo')\n",
    "# JPMorgan Chase \n",
    "JPM = data.DataReader('JPM', start=start, end=end, data_source='yahoo')\n",
    "# Morgan Stanley \n",
    "MS = data.DataReader('MS', start=start, end=end, data_source='yahoo')\n",
    "# Wells Fargo\n",
    "WFC = data.DataReader('WFC', start=start, end=end, data_source='yahoo')"
   ]
  },
  {
   "cell_type": "markdown",
   "metadata": {},
   "source": [
    "**Erstelle eine Liste der Ticker Symbole (als String) in alphabetischer Reihenfolge. Nenne diese Liste \"tickers\".**"
   ]
  },
  {
   "cell_type": "code",
   "execution_count": 6,
   "metadata": {},
   "outputs": [],
   "source": [
    "tickers = ['BAC', 'C', 'GS','JPM','MS','WFC']"
   ]
  },
  {
   "cell_type": "code",
   "execution_count": 7,
   "metadata": {},
   "outputs": [
    {
     "data": {
      "text/plain": [
       "(1259, 6)"
      ]
     },
     "execution_count": 7,
     "metadata": {},
     "output_type": "execute_result"
    }
   ],
   "source": [
    "BAC.shape"
   ]
  },
  {
   "cell_type": "code",
   "execution_count": 8,
   "metadata": {},
   "outputs": [
    {
     "data": {
      "text/html": [
       "<div>\n",
       "<style scoped>\n",
       "    .dataframe tbody tr th:only-of-type {\n",
       "        vertical-align: middle;\n",
       "    }\n",
       "\n",
       "    .dataframe tbody tr th {\n",
       "        vertical-align: top;\n",
       "    }\n",
       "\n",
       "    .dataframe thead th {\n",
       "        text-align: right;\n",
       "    }\n",
       "</style>\n",
       "<table border=\"1\" class=\"dataframe\">\n",
       "  <thead>\n",
       "    <tr style=\"text-align: right;\">\n",
       "      <th></th>\n",
       "      <th>High</th>\n",
       "      <th>Low</th>\n",
       "      <th>Open</th>\n",
       "      <th>Close</th>\n",
       "      <th>Volume</th>\n",
       "      <th>Adj Close</th>\n",
       "    </tr>\n",
       "    <tr>\n",
       "      <th>Date</th>\n",
       "      <th></th>\n",
       "      <th></th>\n",
       "      <th></th>\n",
       "      <th></th>\n",
       "      <th></th>\n",
       "      <th></th>\n",
       "    </tr>\n",
       "  </thead>\n",
       "  <tbody>\n",
       "    <tr>\n",
       "      <td>2014-12-29</td>\n",
       "      <td>18.190001</td>\n",
       "      <td>17.910000</td>\n",
       "      <td>17.969999</td>\n",
       "      <td>18.110001</td>\n",
       "      <td>58370900.0</td>\n",
       "      <td>16.649832</td>\n",
       "    </tr>\n",
       "    <tr>\n",
       "      <td>2014-12-30</td>\n",
       "      <td>18.180000</td>\n",
       "      <td>18.010000</td>\n",
       "      <td>18.040001</td>\n",
       "      <td>18.129999</td>\n",
       "      <td>41433500.0</td>\n",
       "      <td>16.668221</td>\n",
       "    </tr>\n",
       "    <tr>\n",
       "      <td>2014-12-31</td>\n",
       "      <td>18.209999</td>\n",
       "      <td>17.889999</td>\n",
       "      <td>18.190001</td>\n",
       "      <td>17.889999</td>\n",
       "      <td>57819600.0</td>\n",
       "      <td>16.447567</td>\n",
       "    </tr>\n",
       "    <tr>\n",
       "      <td>2015-01-02</td>\n",
       "      <td>18.030001</td>\n",
       "      <td>17.680000</td>\n",
       "      <td>17.990000</td>\n",
       "      <td>17.900000</td>\n",
       "      <td>48951100.0</td>\n",
       "      <td>16.456766</td>\n",
       "    </tr>\n",
       "    <tr>\n",
       "      <td>2015-01-05</td>\n",
       "      <td>17.809999</td>\n",
       "      <td>17.290001</td>\n",
       "      <td>17.790001</td>\n",
       "      <td>17.379999</td>\n",
       "      <td>105605500.0</td>\n",
       "      <td>15.978690</td>\n",
       "    </tr>\n",
       "  </tbody>\n",
       "</table>\n",
       "</div>"
      ],
      "text/plain": [
       "                 High        Low       Open      Close       Volume  Adj Close\n",
       "Date                                                                          \n",
       "2014-12-29  18.190001  17.910000  17.969999  18.110001   58370900.0  16.649832\n",
       "2014-12-30  18.180000  18.010000  18.040001  18.129999   41433500.0  16.668221\n",
       "2014-12-31  18.209999  17.889999  18.190001  17.889999   57819600.0  16.447567\n",
       "2015-01-02  18.030001  17.680000  17.990000  17.900000   48951100.0  16.456766\n",
       "2015-01-05  17.809999  17.290001  17.790001  17.379999  105605500.0  15.978690"
      ]
     },
     "execution_count": 8,
     "metadata": {},
     "output_type": "execute_result"
    }
   ],
   "source": [
    "BAC.head()"
   ]
  },
  {
   "cell_type": "markdown",
   "metadata": {},
   "source": [
    "**Nutze `pd.concat`, um die einzelnen DataFrames zu einem Banken-DataFrame namens \"bank_stocks\" zusammenzufassen. Setze dabei das Keys (dt. Schlüssel) Argument gleich der tickers-Liste.**\n",
    "\n",
    "*Hinweis: Achte auf die Achse auf die du `concat` anwendest.*"
   ]
  },
  {
   "cell_type": "code",
   "execution_count": 13,
   "metadata": {},
   "outputs": [],
   "source": [
    "bank_stocks = pd.concat([BAC, C, GS, MS, WFC],axis=1,  keys=tickers)"
   ]
  },
  {
   "cell_type": "code",
   "execution_count": 14,
   "metadata": {},
   "outputs": [
    {
     "data": {
      "text/plain": [
       "(1259, 30)"
      ]
     },
     "execution_count": 14,
     "metadata": {},
     "output_type": "execute_result"
    }
   ],
   "source": [
    "bank_stocks.shape"
   ]
  },
  {
   "cell_type": "markdown",
   "metadata": {},
   "source": [
    "**Definiere die Spalten namen (bereits vorausgefüllt).**"
   ]
  },
  {
   "cell_type": "code",
   "execution_count": 16,
   "metadata": {},
   "outputs": [],
   "source": [
    "bank_stocks.columns.names = ['Bank Ticker','Stock Info']"
   ]
  },
  {
   "cell_type": "markdown",
   "metadata": {},
   "source": [
    "**Schaue dir den head des bank_stocks DataFrame an.**"
   ]
  },
  {
   "cell_type": "code",
   "execution_count": 17,
   "metadata": {},
   "outputs": [
    {
     "data": {
      "text/html": [
       "<div>\n",
       "<style scoped>\n",
       "    .dataframe tbody tr th:only-of-type {\n",
       "        vertical-align: middle;\n",
       "    }\n",
       "\n",
       "    .dataframe tbody tr th {\n",
       "        vertical-align: top;\n",
       "    }\n",
       "\n",
       "    .dataframe thead tr th {\n",
       "        text-align: left;\n",
       "    }\n",
       "\n",
       "    .dataframe thead tr:last-of-type th {\n",
       "        text-align: right;\n",
       "    }\n",
       "</style>\n",
       "<table border=\"1\" class=\"dataframe\">\n",
       "  <thead>\n",
       "    <tr>\n",
       "      <th>Bank Ticker</th>\n",
       "      <th colspan=\"6\" halign=\"left\">BAC</th>\n",
       "      <th colspan=\"4\" halign=\"left\">C</th>\n",
       "      <th>...</th>\n",
       "      <th colspan=\"4\" halign=\"left\">JPM</th>\n",
       "      <th colspan=\"6\" halign=\"left\">MS</th>\n",
       "    </tr>\n",
       "    <tr>\n",
       "      <th>Stock Info</th>\n",
       "      <th>High</th>\n",
       "      <th>Low</th>\n",
       "      <th>Open</th>\n",
       "      <th>Close</th>\n",
       "      <th>Volume</th>\n",
       "      <th>Adj Close</th>\n",
       "      <th>High</th>\n",
       "      <th>Low</th>\n",
       "      <th>Open</th>\n",
       "      <th>Close</th>\n",
       "      <th>...</th>\n",
       "      <th>Open</th>\n",
       "      <th>Close</th>\n",
       "      <th>Volume</th>\n",
       "      <th>Adj Close</th>\n",
       "      <th>High</th>\n",
       "      <th>Low</th>\n",
       "      <th>Open</th>\n",
       "      <th>Close</th>\n",
       "      <th>Volume</th>\n",
       "      <th>Adj Close</th>\n",
       "    </tr>\n",
       "    <tr>\n",
       "      <th>Date</th>\n",
       "      <th></th>\n",
       "      <th></th>\n",
       "      <th></th>\n",
       "      <th></th>\n",
       "      <th></th>\n",
       "      <th></th>\n",
       "      <th></th>\n",
       "      <th></th>\n",
       "      <th></th>\n",
       "      <th></th>\n",
       "      <th></th>\n",
       "      <th></th>\n",
       "      <th></th>\n",
       "      <th></th>\n",
       "      <th></th>\n",
       "      <th></th>\n",
       "      <th></th>\n",
       "      <th></th>\n",
       "      <th></th>\n",
       "      <th></th>\n",
       "      <th></th>\n",
       "    </tr>\n",
       "  </thead>\n",
       "  <tbody>\n",
       "    <tr>\n",
       "      <td>2014-12-29</td>\n",
       "      <td>18.190001</td>\n",
       "      <td>17.910000</td>\n",
       "      <td>17.969999</td>\n",
       "      <td>18.110001</td>\n",
       "      <td>58370900.0</td>\n",
       "      <td>16.649832</td>\n",
       "      <td>55.080002</td>\n",
       "      <td>54.029999</td>\n",
       "      <td>54.139999</td>\n",
       "      <td>54.730000</td>\n",
       "      <td>...</td>\n",
       "      <td>38.669998</td>\n",
       "      <td>38.959999</td>\n",
       "      <td>3466900.0</td>\n",
       "      <td>34.920406</td>\n",
       "      <td>55.950001</td>\n",
       "      <td>55.080002</td>\n",
       "      <td>55.080002</td>\n",
       "      <td>55.709999</td>\n",
       "      <td>11385600.0</td>\n",
       "      <td>47.737831</td>\n",
       "    </tr>\n",
       "    <tr>\n",
       "      <td>2014-12-30</td>\n",
       "      <td>18.180000</td>\n",
       "      <td>18.010000</td>\n",
       "      <td>18.040001</td>\n",
       "      <td>18.129999</td>\n",
       "      <td>41433500.0</td>\n",
       "      <td>16.668221</td>\n",
       "      <td>54.950001</td>\n",
       "      <td>54.250000</td>\n",
       "      <td>54.509998</td>\n",
       "      <td>54.840000</td>\n",
       "      <td>...</td>\n",
       "      <td>38.669998</td>\n",
       "      <td>39.000000</td>\n",
       "      <td>4010600.0</td>\n",
       "      <td>34.956264</td>\n",
       "      <td>55.750000</td>\n",
       "      <td>55.400002</td>\n",
       "      <td>55.520000</td>\n",
       "      <td>55.419998</td>\n",
       "      <td>8749400.0</td>\n",
       "      <td>47.489330</td>\n",
       "    </tr>\n",
       "    <tr>\n",
       "      <td>2014-12-31</td>\n",
       "      <td>18.209999</td>\n",
       "      <td>17.889999</td>\n",
       "      <td>18.190001</td>\n",
       "      <td>17.889999</td>\n",
       "      <td>57819600.0</td>\n",
       "      <td>16.447567</td>\n",
       "      <td>55.070000</td>\n",
       "      <td>54.099998</td>\n",
       "      <td>54.950001</td>\n",
       "      <td>54.110001</td>\n",
       "      <td>...</td>\n",
       "      <td>39.119999</td>\n",
       "      <td>38.799999</td>\n",
       "      <td>6492900.0</td>\n",
       "      <td>34.777004</td>\n",
       "      <td>55.669998</td>\n",
       "      <td>54.820000</td>\n",
       "      <td>55.500000</td>\n",
       "      <td>54.820000</td>\n",
       "      <td>10090800.0</td>\n",
       "      <td>46.975193</td>\n",
       "    </tr>\n",
       "    <tr>\n",
       "      <td>2015-01-02</td>\n",
       "      <td>18.030001</td>\n",
       "      <td>17.680000</td>\n",
       "      <td>17.990000</td>\n",
       "      <td>17.900000</td>\n",
       "      <td>48951100.0</td>\n",
       "      <td>16.456766</td>\n",
       "      <td>54.689999</td>\n",
       "      <td>53.790001</td>\n",
       "      <td>54.360001</td>\n",
       "      <td>54.259998</td>\n",
       "      <td>...</td>\n",
       "      <td>39.049999</td>\n",
       "      <td>38.709999</td>\n",
       "      <td>7333800.0</td>\n",
       "      <td>34.696335</td>\n",
       "      <td>55.189999</td>\n",
       "      <td>54.189999</td>\n",
       "      <td>55.110001</td>\n",
       "      <td>54.700001</td>\n",
       "      <td>11700900.0</td>\n",
       "      <td>46.872356</td>\n",
       "    </tr>\n",
       "    <tr>\n",
       "      <td>2015-01-05</td>\n",
       "      <td>17.809999</td>\n",
       "      <td>17.290001</td>\n",
       "      <td>17.790001</td>\n",
       "      <td>17.379999</td>\n",
       "      <td>105605500.0</td>\n",
       "      <td>15.978690</td>\n",
       "      <td>53.959999</td>\n",
       "      <td>52.330002</td>\n",
       "      <td>53.910000</td>\n",
       "      <td>52.549999</td>\n",
       "      <td>...</td>\n",
       "      <td>38.459999</td>\n",
       "      <td>37.500000</td>\n",
       "      <td>12507900.0</td>\n",
       "      <td>33.611782</td>\n",
       "      <td>54.360001</td>\n",
       "      <td>53.099998</td>\n",
       "      <td>54.139999</td>\n",
       "      <td>53.200001</td>\n",
       "      <td>15000500.0</td>\n",
       "      <td>45.587009</td>\n",
       "    </tr>\n",
       "  </tbody>\n",
       "</table>\n",
       "<p>5 rows × 30 columns</p>\n",
       "</div>"
      ],
      "text/plain": [
       "Bank Ticker        BAC                                                \\\n",
       "Stock Info        High        Low       Open      Close       Volume   \n",
       "Date                                                                   \n",
       "2014-12-29   18.190001  17.910000  17.969999  18.110001   58370900.0   \n",
       "2014-12-30   18.180000  18.010000  18.040001  18.129999   41433500.0   \n",
       "2014-12-31   18.209999  17.889999  18.190001  17.889999   57819600.0   \n",
       "2015-01-02   18.030001  17.680000  17.990000  17.900000   48951100.0   \n",
       "2015-01-05   17.809999  17.290001  17.790001  17.379999  105605500.0   \n",
       "\n",
       "Bank Ticker                     C                                   ...  \\\n",
       "Stock Info   Adj Close       High        Low       Open      Close  ...   \n",
       "Date                                                                ...   \n",
       "2014-12-29   16.649832  55.080002  54.029999  54.139999  54.730000  ...   \n",
       "2014-12-30   16.668221  54.950001  54.250000  54.509998  54.840000  ...   \n",
       "2014-12-31   16.447567  55.070000  54.099998  54.950001  54.110001  ...   \n",
       "2015-01-02   16.456766  54.689999  53.790001  54.360001  54.259998  ...   \n",
       "2015-01-05   15.978690  53.959999  52.330002  53.910000  52.549999  ...   \n",
       "\n",
       "Bank Ticker        JPM                                           MS  \\\n",
       "Stock Info        Open      Close      Volume  Adj Close       High   \n",
       "Date                                                                  \n",
       "2014-12-29   38.669998  38.959999   3466900.0  34.920406  55.950001   \n",
       "2014-12-30   38.669998  39.000000   4010600.0  34.956264  55.750000   \n",
       "2014-12-31   39.119999  38.799999   6492900.0  34.777004  55.669998   \n",
       "2015-01-02   39.049999  38.709999   7333800.0  34.696335  55.189999   \n",
       "2015-01-05   38.459999  37.500000  12507900.0  33.611782  54.360001   \n",
       "\n",
       "Bank Ticker                                                          \n",
       "Stock Info         Low       Open      Close      Volume  Adj Close  \n",
       "Date                                                                 \n",
       "2014-12-29   55.080002  55.080002  55.709999  11385600.0  47.737831  \n",
       "2014-12-30   55.400002  55.520000  55.419998   8749400.0  47.489330  \n",
       "2014-12-31   54.820000  55.500000  54.820000  10090800.0  46.975193  \n",
       "2015-01-02   54.189999  55.110001  54.700001  11700900.0  46.872356  \n",
       "2015-01-05   53.099998  54.139999  53.200001  15000500.0  45.587009  \n",
       "\n",
       "[5 rows x 30 columns]"
      ]
     },
     "execution_count": 17,
     "metadata": {},
     "output_type": "execute_result"
    }
   ],
   "source": [
    "bank_stocks.head()"
   ]
  },
  {
   "cell_type": "markdown",
   "metadata": {
    "collapsed": true
   },
   "source": [
    "## Explorative Datenanalyse\n",
    "\n",
    "Lasst uns die Daten etwas untersuchen! Doch bevor wir damit loslegen ermutige ich euch, das [Multi-Level Indexing](http://pandas.pydata.org/pandas-docs/stable/advanced.html) und die [Nutzung von .xs](http://pandas.pydata.org/pandas-docs/stable/generated/pandas.DataFrame.xs.html) genauer anzuschauen.\n",
    "\n",
    "**Was ist der maximale Kurs zum Handelsschluss (en. close price) für jede der Banken in unserer gesamten Zeitperiode?**"
   ]
  },
  {
   "cell_type": "code",
   "execution_count": null,
   "metadata": {},
   "outputs": [],
   "source": []
  },
  {
   "cell_type": "markdown",
   "metadata": {},
   "source": [
    "**Erstelle einen neuen leeren DataFrame namens \"returns\" (dt. Rendite). Dieser DataFrame wird die Renditen für die Aktien der Banken beinhalten. Renditen sind typischerweise wie folgt definiert:**\n",
    "\n",
    "$$r_t = \\frac{p_t - p_{t-1}}{p_{t-1}} = \\frac{p_t}{p_{t-1}} - 1$$"
   ]
  },
  {
   "cell_type": "code",
   "execution_count": null,
   "metadata": {},
   "outputs": [],
   "source": []
  },
  {
   "cell_type": "markdown",
   "metadata": {},
   "source": [
    "**Wir können nun Pandas `pct_change()` Methode auf den Schlusskurs anwenden, um eine Spalte zu erzeugen, die die Renditen beinhaltet. Erstelle dazu eine `for` Schleife, die für jeden Bank Aktienticker diese Renditenspalte erzeugt und sie in unseren returns DataFrame schreibt.**"
   ]
  },
  {
   "cell_type": "code",
   "execution_count": null,
   "metadata": {},
   "outputs": [],
   "source": []
  },
  {
   "cell_type": "markdown",
   "metadata": {},
   "source": [
    "**Erstelle jetzt ein `pairplot` mit Seaborn vom returns DataFrame. Welche Aktien stechen heraus? Woran könnte das liegen?**"
   ]
  },
  {
   "cell_type": "code",
   "execution_count": null,
   "metadata": {},
   "outputs": [],
   "source": [
    "#returns[1:]\n"
   ]
  },
  {
   "cell_type": "markdown",
   "metadata": {},
   "source": [
    "Hintergrundinformationen zum Crash der Citigroup Aktie gibts [hier](https://en.wikipedia.org/wiki/Citigroup#November_2008.2C_Collapse_.26_US_Government_Intervention_.28part_of_the_Global_Financial_Crisis.29).\n",
    "\n",
    "Man sieht außerdem einen enormen Crash im Wert der Aktien (was wir bei den Visualisierungen später noch tun werden)."
   ]
  },
  {
   "cell_type": "markdown",
   "metadata": {},
   "source": [
    "**Unter Verwendung des return DataFrame: finde heraus an welchem Tag die jeweiligen Banken die besten und schlechtesten Eintagesrenditen hatten. Dabei sollte dir auffallen, dass 4 der Banken ihren schlechtesten am selben Tag hatte. Was passierte an diesem Tag?**"
   ]
  },
  {
   "cell_type": "code",
   "execution_count": null,
   "metadata": {},
   "outputs": [],
   "source": []
  },
  {
   "cell_type": "code",
   "execution_count": null,
   "metadata": {},
   "outputs": [],
   "source": []
  },
  {
   "cell_type": "markdown",
   "metadata": {},
   "source": [
    "**Dabei sollte aufgefallen sein, dass der größte Einbruch und Gewinn der Citigroup nahe zusammen liegen. Ist etwas signifikantes passiert?**\n",
    "\n",
    "[Citigroup had a stock split.](https://www.google.com/webhp?sourceid=chrome-instant&ion=1&espv=2&ie=UTF-8#q=citigroup+stock+2011+may)"
   ]
  },
  {
   "cell_type": "markdown",
   "metadata": {},
   "source": [
    "**Betrachte jetzt die Standardabweichung der Renditen. Welche Aktie würdest du demnach als die riskanteste über den gesamten Zeitraum hinweg bezeichnen? Welche würdest du als riskanteste im Jahr 2016 bezeichnen?**"
   ]
  },
  {
   "cell_type": "code",
   "execution_count": null,
   "metadata": {},
   "outputs": [],
   "source": []
  },
  {
   "cell_type": "code",
   "execution_count": null,
   "metadata": {},
   "outputs": [],
   "source": []
  },
  {
   "cell_type": "markdown",
   "metadata": {},
   "source": [
    "**Erstelle ein `distplot` mit Seaborn für die Renditen von Morgan Stranley in 2016.**"
   ]
  },
  {
   "cell_type": "code",
   "execution_count": null,
   "metadata": {},
   "outputs": [],
   "source": []
  },
  {
   "cell_type": "markdown",
   "metadata": {},
   "source": [
    "**Erstelle ein `distplot` mit Seaborn für die Renditen der CitiGroup in 2015.**"
   ]
  },
  {
   "cell_type": "code",
   "execution_count": null,
   "metadata": {},
   "outputs": [],
   "source": []
  },
  {
   "cell_type": "markdown",
   "metadata": {},
   "source": [
    "## Mehr Visualisierungen\n",
    "\n",
    "Der folgende Teil dieses Projekts dreht sich komplett um Visualisierungen.  Nutze dabei eine Library deiner Wahl, oder mehrere. Ziel ist es, die abgebildeten Visualisierungen nachzustellen. Wähle zwischen Seaborn, Matplotlib, Plotly, Cufflinks oder einfach Pandas.\n",
    "\n",
    "### Importe"
   ]
  },
  {
   "cell_type": "code",
   "execution_count": null,
   "metadata": {},
   "outputs": [],
   "source": [
    "# Installieren die neuste cufflinks Version, weil wir plot\n",
    "%pip install cufflinks==0.17.0"
   ]
  },
  {
   "cell_type": "code",
   "execution_count": null,
   "metadata": {},
   "outputs": [],
   "source": [
    "import matplotlib.pyplot as plt\n",
    "import seaborn as sns\n",
    "sns.set_style('whitegrid')\n",
    "%matplotlib inline\n",
    "\n",
    "# Optional Plotly Method Imports\n",
    "import chart_studio.plotly as py\n",
    "from chart_studio.plotly import plot\n",
    "import cufflinks as cf\n",
    "cf.go_offline()"
   ]
  },
  {
   "cell_type": "markdown",
   "metadata": {},
   "source": [
    "**Erstelle ein Liniendiagramm, das die Tagesschlusspreise für jede Bank für die gesamte Zeitperiode zeigt.**\n",
    "\n",
    "*Hinweis: Eine `for` Schleife oder .xs können funktionieren.*"
   ]
  },
  {
   "cell_type": "code",
   "execution_count": null,
   "metadata": {},
   "outputs": [],
   "source": []
  },
  {
   "cell_type": "code",
   "execution_count": null,
   "metadata": {},
   "outputs": [],
   "source": []
  },
  {
   "cell_type": "code",
   "execution_count": null,
   "metadata": {},
   "outputs": [],
   "source": [
    "# Plotly"
   ]
  },
  {
   "cell_type": "markdown",
   "metadata": {},
   "source": [
    "### Laufender Durchschnitt\n",
    "\n",
    "Lasst uns den laufenden Durchschnitt für diese Aktien im Jahr 2008 berechnen.\n",
    "\n",
    "**Zeichne den laufenden 30-Tages-Durchschnitt gegen den Tagesschlusspreis für die Bank of America im Jahr 2008.**"
   ]
  },
  {
   "cell_type": "code",
   "execution_count": null,
   "metadata": {},
   "outputs": [],
   "source": []
  },
  {
   "cell_type": "markdown",
   "metadata": {},
   "source": [
    "**Erstelle eine `heatmap` der Korrelation zwischen den Schlusspreisen der Banken.**"
   ]
  },
  {
   "cell_type": "code",
   "execution_count": null,
   "metadata": {},
   "outputs": [],
   "source": []
  },
  {
   "cell_type": "markdown",
   "metadata": {},
   "source": [
    "**Optional: Nutze die `clustermap` aus Seaborn, um die Korrelationen zu clustern.**"
   ]
  },
  {
   "cell_type": "code",
   "execution_count": null,
   "metadata": {},
   "outputs": [],
   "source": []
  },
  {
   "cell_type": "code",
   "execution_count": null,
   "metadata": {},
   "outputs": [],
   "source": []
  },
  {
   "cell_type": "markdown",
   "metadata": {},
   "source": [
    "# Gut gemacht!"
   ]
  }
 ],
 "metadata": {
  "kernelspec": {
   "display_name": "Python 3",
   "language": "python",
   "name": "python3"
  },
  "language_info": {
   "codemirror_mode": {
    "name": "ipython",
    "version": 3
   },
   "file_extension": ".py",
   "mimetype": "text/x-python",
   "name": "python",
   "nbconvert_exporter": "python",
   "pygments_lexer": "ipython3",
   "version": "3.7.4"
  }
 },
 "nbformat": 4,
 "nbformat_minor": 2
}
