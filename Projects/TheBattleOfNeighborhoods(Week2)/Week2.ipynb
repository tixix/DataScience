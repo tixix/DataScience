{
 "cells": [
  {
   "cell_type": "code",
   "execution_count": null,
   "metadata": {},
   "outputs": [],
   "source": [
    "!conda update -n base -c defaults conda\n",
    "#!conda install -c conda-forge geopy --yes\n",
    "# !conda install -c conda-forge folium=0.5.0 --yes"
   ]
  },
  {
   "cell_type": "markdown",
   "metadata": {},
   "source": [
    "## Table of contents\n",
    "* [Introduction: Business Problem](#introduction)\n",
    "* [Data](#data)\n",
    "* [Methodology](#methodology)\n",
    "* [Analysis](#analysis)\n",
    "* [Results and Discussion](#results)\n",
    "* [Conclusion](#conclusion)"
   ]
  },
  {
   "cell_type": "code",
   "execution_count": null,
   "metadata": {},
   "outputs": [],
   "source": [
    "import numpy as np # library to handle data in a vectorized manner\n",
    "\n",
    "import pandas as pd # library for data analysis\n",
    "pd.set_option('display.max_columns', None)\n",
    "pd.set_option('display.max_rows', None)\n",
    "\n",
    "import json # library to handle JSON files\n",
    "\n",
    "\n",
    "from geopy.geocoders import Nominatim # convert an address into latitude and longitude values\n",
    "\n",
    "import requests # library to handle requests\n",
    "from pandas.io.json import json_normalize # tranform JSON file into a pandas dataframe\n",
    "\n",
    "# Matplotlib and associated plotting modules\n",
    "import matplotlib.cm as cm\n",
    "import matplotlib.colors as colors\n",
    "import matplotlib.pyplot as plt\n",
    "\n",
    "# import k-means from clustering stage\n",
    "from sklearn.cluster import KMeans\n",
    "\n",
    "\n",
    "import folium # map rendering library\n",
    "\n",
    "#Lib for html handling\n",
    "from lxml import html\n",
    "%matplotlib inline\n",
    "\n",
    "print('Libraries imported.')"
   ]
  },
  {
   "cell_type": "markdown",
   "metadata": {},
   "source": [
    "\n",
    "## Introduction: Business Problem <a name=\"introduction\"></a>"
   ]
  },
  {
   "cell_type": "markdown",
   "metadata": {},
   "source": [
    "## Introduction & Business Problem\n",
    "1. **Problem Background**\n",
    "\n",
    "Family Luigio , famous for their authentic pizza delivery service and restaurant in whole Italy, wants to open their first in Toroto. From their experience, Luigio knows what the most crucial fact besides the quality in pizza delivery: FAST. Everthing above 1h delivery time is a no go. For family Luigio, the place where they open their delivery service should not be in the city center because of traffics. They want to settle in a neighbourhood, where the can assure all the orders can be delivered in 30 minutes, even in the prime time.  \n",
    "Another aspect to mention is that fam. Luigio wants to avoid a competition. As a newcommer in the Canada, they want to get started somewhere not in the city center. Our tasks therefore is to find a area with  least competition but still good connected with distircs or places with a high number of inhabitants.  \n",
    "Luigio,from their expoerience, wants to set their average of delivery radius about 4km.\n",
    "2. **Target an audience and why they care about the project**:  \n",
    "\n",
    "Business personnel who wants to invest or open a delivery service or anyone who wants to start a new restaurant in Toronto city.\n",
    "3. **Questions to answer**\n",
    "\n",
    " - which neighborhood is suitable for starting a pizze delivery business\n",
    " - where are the areas that are close to  districts with lots of inhabitants so all the orders can be deliverd in 15 min by car\n",
    " - what are competitors in that location  \n",
    " \n",
    "4. **Data** \n",
    " - District data for Toronto including names, location data if available, and any other details required ie. Population,  competitors in that location, Cuisine served ....\n",
    " - Get the latitude and the longitude coordinates of each neighborhood\n",
    " - Use the Foursquare location data to discovers torontos  \n",
    " \n",
    "5. **Following data sources will be needed to generate the required information**\n",
    "\n",
    "    - Wikipedia page of Toorntos neighborhood including\n",
    "    - All venues or neigborhood area through Foursqueare API\n",
    "    - Geolocator to get coordinates of neighborhoods"
   ]
  },
  {
   "cell_type": "markdown",
   "metadata": {},
   "source": [
    "### Foursquare API\n",
    "Opened. sandbox for Coursera project. In this section we generate url for fetching venue data for Toronto neigborhoods"
   ]
  },
  {
   "cell_type": "code",
   "execution_count": null,
   "metadata": {},
   "outputs": [],
   "source": [
    "CLIENT_ID = '##### ID ###########' # your Foursquare ID\n",
    "CLIENT_SECRET = '#### Secret #####' # your Foursquare Secret\n",
    "VERSION = '20180605' # Foursquare API version\n",
    "\n",
    "print('Your credentails:')\n",
    "print('CLIENT_ID: ' + CLIENT_ID)\n",
    "print('CLIENT_SECRET:' + CLIENT_SECRET)"
   ]
  },
  {
   "cell_type": "code",
   "execution_count": null,
   "metadata": {},
   "outputs": [],
   "source": []
  }
 ],
 "metadata": {
  "kernelspec": {
   "display_name": "Python 3",
   "language": "python",
   "name": "python3"
  },
  "language_info": {
   "codemirror_mode": {
    "name": "ipython",
    "version": 3
   },
   "file_extension": ".py",
   "mimetype": "text/x-python",
   "name": "python",
   "nbconvert_exporter": "python",
   "pygments_lexer": "ipython3",
   "version": "3.7.4"
  }
 },
 "nbformat": 4,
 "nbformat_minor": 2
}
