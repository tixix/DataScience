{
 "cells": [
  {
   "cell_type": "markdown",
   "metadata": {},
   "source": [
    "# Capstone Project - The Battle of Neighborhoods (Week 1)"
   ]
  },
  {
   "cell_type": "markdown",
   "metadata": {},
   "source": [
    "## Introduction & Business Problem\n",
    "1. **Problem Background**\n",
    "\n",
    "Family Luigio , famous for their authentic pizza delivery service and restaurant in whole Italy, wants to open their first in Toroto. From their experience, Luigio knows what the most crucial fact besides the quality in pizza delivery: FAST. Everthing above 1h delivery time is a no go. For family Luigio, the place where they open their delivery service should not be in the city center because of traffics. They want to settle in a neighbourhood, where the can assure all the orders can be delivered in 30 minutes, even in the prime time.  \n",
    "Another aspect to mention is that fam. Luigio wants to avoid a competition. As a newcommer in the Canada, they want to get started somewhere not in the city center. Our tasks therefore is to find a area with  least competition but still good connected with distircs or places with a high number of inhabitants.  \n",
    "Luigio,from their expoerience, wants to set their average of delivery radius about 4km.\n",
    "2. **Target an audience and why they care about the project**:  \n",
    "\n",
    "Business personnel who wants to invest or open a delivery service or anyone who wants to start a new restaurant in Toronto city.\n",
    "3. **Questions to answer**\n",
    "\n",
    " - which neighborhood is suitable for starting a pizze delivery business\n",
    " - where are the areas that are close to  districts with lots of inhabitants so all the orders can be deliverd in 15 min by car\n",
    " - what are competitors in that location\n",
    "4. **Data** \n",
    " - District data for Toronto including names, location data if available, and any other details required ie. Population,  competitors in that location, Cuisine served ....\n",
    " - Get the latitude and the longitude coordinates of each neighborhood\n",
    " - Use the Foursquare location data to discovers torontos\n",
    "5. **Following data sources will be needed to generate the required information**\n",
    "\n",
    "    - Wikipedia page of Toorntos neighborhood including\n",
    "    - All venues or neigborhood area through Foursqueare API\n",
    "    - Geolocator to get coordinates of neighborhoods"
   ]
  },
  {
   "cell_type": "code",
   "execution_count": null,
   "metadata": {},
   "outputs": [],
   "source": []
  }
 ],
 "metadata": {
  "kernelspec": {
   "display_name": "Python 3",
   "language": "python",
   "name": "python3"
  },
  "language_info": {
   "codemirror_mode": {
    "name": "ipython",
    "version": 3
   },
   "file_extension": ".py",
   "mimetype": "text/x-python",
   "name": "python",
   "nbconvert_exporter": "python",
   "pygments_lexer": "ipython3",
   "version": "3.7.4"
  }
 },
 "nbformat": 4,
 "nbformat_minor": 2
}
